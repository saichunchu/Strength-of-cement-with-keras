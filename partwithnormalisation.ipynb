{
 "cells": [
  {
   "cell_type": "code",
   "execution_count": 10,
   "id": "87ca6cd0-3bb4-4271-8992-7d798e8acf2b",
   "metadata": {},
   "outputs": [],
   "source": [
    "import numpy as np\n",
    "import pandas as pd\n"
   ]
  },
  {
   "cell_type": "markdown",
   "id": "215217e3-0307-4417-a5c1-5631f0a4f989",
   "metadata": {},
   "source": [
    "The dataset is about the compressive strength of different samples of concrete based on the volumes of the different ingredients that were used to make them. Ingredients include:\r\n",
    "\r\n",
    "1. Cement\r\n",
    "\r\n",
    "2. Blast Furnace Slag\r\n",
    "\r\n",
    "3. Fly Ash\r\n",
    "\r\n",
    "4. Water\r\n",
    "\r\n",
    "5. Superplasticizer\r\n",
    "\r\n",
    "6. Coarse Aggregate\r\n",
    "\r\n",
    "7. Fine Aggregate"
   ]
  },
  {
   "cell_type": "markdown",
   "id": "4ab8d4b6-369f-40b6-8829-defcc0fb1728",
   "metadata": {},
   "source": [
    "Let's read the dataset into a pandas dataframe."
   ]
  },
  {
   "cell_type": "code",
   "execution_count": 11,
   "id": "eef2df61-36bc-43d9-a4a7-8571649e60df",
   "metadata": {},
   "outputs": [
    {
     "data": {
      "text/html": [
       "<div>\n",
       "<style scoped>\n",
       "    .dataframe tbody tr th:only-of-type {\n",
       "        vertical-align: middle;\n",
       "    }\n",
       "\n",
       "    .dataframe tbody tr th {\n",
       "        vertical-align: top;\n",
       "    }\n",
       "\n",
       "    .dataframe thead th {\n",
       "        text-align: right;\n",
       "    }\n",
       "</style>\n",
       "<table border=\"1\" class=\"dataframe\">\n",
       "  <thead>\n",
       "    <tr style=\"text-align: right;\">\n",
       "      <th></th>\n",
       "      <th>Cement</th>\n",
       "      <th>Blast Furnace Slag</th>\n",
       "      <th>Fly Ash</th>\n",
       "      <th>Water</th>\n",
       "      <th>Superplasticizer</th>\n",
       "      <th>Coarse Aggregate</th>\n",
       "      <th>Fine Aggregate</th>\n",
       "      <th>Age</th>\n",
       "      <th>Strength</th>\n",
       "    </tr>\n",
       "  </thead>\n",
       "  <tbody>\n",
       "    <tr>\n",
       "      <th>0</th>\n",
       "      <td>540.0</td>\n",
       "      <td>0.0</td>\n",
       "      <td>0.0</td>\n",
       "      <td>162.0</td>\n",
       "      <td>2.5</td>\n",
       "      <td>1040.0</td>\n",
       "      <td>676.0</td>\n",
       "      <td>28</td>\n",
       "      <td>79.99</td>\n",
       "    </tr>\n",
       "    <tr>\n",
       "      <th>1</th>\n",
       "      <td>540.0</td>\n",
       "      <td>0.0</td>\n",
       "      <td>0.0</td>\n",
       "      <td>162.0</td>\n",
       "      <td>2.5</td>\n",
       "      <td>1055.0</td>\n",
       "      <td>676.0</td>\n",
       "      <td>28</td>\n",
       "      <td>61.89</td>\n",
       "    </tr>\n",
       "    <tr>\n",
       "      <th>2</th>\n",
       "      <td>332.5</td>\n",
       "      <td>142.5</td>\n",
       "      <td>0.0</td>\n",
       "      <td>228.0</td>\n",
       "      <td>0.0</td>\n",
       "      <td>932.0</td>\n",
       "      <td>594.0</td>\n",
       "      <td>270</td>\n",
       "      <td>40.27</td>\n",
       "    </tr>\n",
       "    <tr>\n",
       "      <th>3</th>\n",
       "      <td>332.5</td>\n",
       "      <td>142.5</td>\n",
       "      <td>0.0</td>\n",
       "      <td>228.0</td>\n",
       "      <td>0.0</td>\n",
       "      <td>932.0</td>\n",
       "      <td>594.0</td>\n",
       "      <td>365</td>\n",
       "      <td>41.05</td>\n",
       "    </tr>\n",
       "    <tr>\n",
       "      <th>4</th>\n",
       "      <td>198.6</td>\n",
       "      <td>132.4</td>\n",
       "      <td>0.0</td>\n",
       "      <td>192.0</td>\n",
       "      <td>0.0</td>\n",
       "      <td>978.4</td>\n",
       "      <td>825.5</td>\n",
       "      <td>360</td>\n",
       "      <td>44.30</td>\n",
       "    </tr>\n",
       "  </tbody>\n",
       "</table>\n",
       "</div>"
      ],
      "text/plain": [
       "   Cement  Blast Furnace Slag  Fly Ash  Water  Superplasticizer  \\\n",
       "0   540.0                 0.0      0.0  162.0               2.5   \n",
       "1   540.0                 0.0      0.0  162.0               2.5   \n",
       "2   332.5               142.5      0.0  228.0               0.0   \n",
       "3   332.5               142.5      0.0  228.0               0.0   \n",
       "4   198.6               132.4      0.0  192.0               0.0   \n",
       "\n",
       "   Coarse Aggregate  Fine Aggregate  Age  Strength  \n",
       "0            1040.0           676.0   28     79.99  \n",
       "1            1055.0           676.0   28     61.89  \n",
       "2             932.0           594.0  270     40.27  \n",
       "3             932.0           594.0  365     41.05  \n",
       "4             978.4           825.5  360     44.30  "
      ]
     },
     "execution_count": 11,
     "metadata": {},
     "output_type": "execute_result"
    }
   ],
   "source": [
    "concrete_data = pd.read_csv('concrete_data.csv')\n",
    "concrete_data.head()"
   ]
  },
  {
   "cell_type": "markdown",
   "id": "128b240a-9d65-4373-8b23-fdc905d63428",
   "metadata": {},
   "source": [
    "checking how many data points we have"
   ]
  },
  {
   "cell_type": "code",
   "execution_count": 13,
   "id": "4fbdcb0a-7c60-4885-974e-f253bbaa357c",
   "metadata": {},
   "outputs": [
    {
     "data": {
      "text/plain": [
       "(1030, 9)"
      ]
     },
     "execution_count": 13,
     "metadata": {},
     "output_type": "execute_result"
    }
   ],
   "source": [
    "concrete_data.shape"
   ]
  },
  {
   "cell_type": "markdown",
   "id": "31b44f48-1472-4f91-b91e-fbea8a65d5f9",
   "metadata": {},
   "source": [
    "So, there are approximately 1000 samples of the data.\n",
    "we have to be careful not to overfit the data due to small samples\n"
   ]
  },
  {
   "cell_type": "code",
   "execution_count": 14,
   "id": "c45cca3f-71ac-44e7-ba7a-d474d0e6739d",
   "metadata": {},
   "outputs": [
    {
     "data": {
      "text/html": [
       "<div>\n",
       "<style scoped>\n",
       "    .dataframe tbody tr th:only-of-type {\n",
       "        vertical-align: middle;\n",
       "    }\n",
       "\n",
       "    .dataframe tbody tr th {\n",
       "        vertical-align: top;\n",
       "    }\n",
       "\n",
       "    .dataframe thead th {\n",
       "        text-align: right;\n",
       "    }\n",
       "</style>\n",
       "<table border=\"1\" class=\"dataframe\">\n",
       "  <thead>\n",
       "    <tr style=\"text-align: right;\">\n",
       "      <th></th>\n",
       "      <th>Cement</th>\n",
       "      <th>Blast Furnace Slag</th>\n",
       "      <th>Fly Ash</th>\n",
       "      <th>Water</th>\n",
       "      <th>Superplasticizer</th>\n",
       "      <th>Coarse Aggregate</th>\n",
       "      <th>Fine Aggregate</th>\n",
       "      <th>Age</th>\n",
       "      <th>Strength</th>\n",
       "    </tr>\n",
       "  </thead>\n",
       "  <tbody>\n",
       "    <tr>\n",
       "      <th>count</th>\n",
       "      <td>1030.000000</td>\n",
       "      <td>1030.000000</td>\n",
       "      <td>1030.000000</td>\n",
       "      <td>1030.000000</td>\n",
       "      <td>1030.000000</td>\n",
       "      <td>1030.000000</td>\n",
       "      <td>1030.000000</td>\n",
       "      <td>1030.000000</td>\n",
       "      <td>1030.000000</td>\n",
       "    </tr>\n",
       "    <tr>\n",
       "      <th>mean</th>\n",
       "      <td>281.167864</td>\n",
       "      <td>73.895825</td>\n",
       "      <td>54.188350</td>\n",
       "      <td>181.567282</td>\n",
       "      <td>6.204660</td>\n",
       "      <td>972.918932</td>\n",
       "      <td>773.580485</td>\n",
       "      <td>45.662136</td>\n",
       "      <td>35.817961</td>\n",
       "    </tr>\n",
       "    <tr>\n",
       "      <th>std</th>\n",
       "      <td>104.506364</td>\n",
       "      <td>86.279342</td>\n",
       "      <td>63.997004</td>\n",
       "      <td>21.354219</td>\n",
       "      <td>5.973841</td>\n",
       "      <td>77.753954</td>\n",
       "      <td>80.175980</td>\n",
       "      <td>63.169912</td>\n",
       "      <td>16.705742</td>\n",
       "    </tr>\n",
       "    <tr>\n",
       "      <th>min</th>\n",
       "      <td>102.000000</td>\n",
       "      <td>0.000000</td>\n",
       "      <td>0.000000</td>\n",
       "      <td>121.800000</td>\n",
       "      <td>0.000000</td>\n",
       "      <td>801.000000</td>\n",
       "      <td>594.000000</td>\n",
       "      <td>1.000000</td>\n",
       "      <td>2.330000</td>\n",
       "    </tr>\n",
       "    <tr>\n",
       "      <th>25%</th>\n",
       "      <td>192.375000</td>\n",
       "      <td>0.000000</td>\n",
       "      <td>0.000000</td>\n",
       "      <td>164.900000</td>\n",
       "      <td>0.000000</td>\n",
       "      <td>932.000000</td>\n",
       "      <td>730.950000</td>\n",
       "      <td>7.000000</td>\n",
       "      <td>23.710000</td>\n",
       "    </tr>\n",
       "    <tr>\n",
       "      <th>50%</th>\n",
       "      <td>272.900000</td>\n",
       "      <td>22.000000</td>\n",
       "      <td>0.000000</td>\n",
       "      <td>185.000000</td>\n",
       "      <td>6.400000</td>\n",
       "      <td>968.000000</td>\n",
       "      <td>779.500000</td>\n",
       "      <td>28.000000</td>\n",
       "      <td>34.445000</td>\n",
       "    </tr>\n",
       "    <tr>\n",
       "      <th>75%</th>\n",
       "      <td>350.000000</td>\n",
       "      <td>142.950000</td>\n",
       "      <td>118.300000</td>\n",
       "      <td>192.000000</td>\n",
       "      <td>10.200000</td>\n",
       "      <td>1029.400000</td>\n",
       "      <td>824.000000</td>\n",
       "      <td>56.000000</td>\n",
       "      <td>46.135000</td>\n",
       "    </tr>\n",
       "    <tr>\n",
       "      <th>max</th>\n",
       "      <td>540.000000</td>\n",
       "      <td>359.400000</td>\n",
       "      <td>200.100000</td>\n",
       "      <td>247.000000</td>\n",
       "      <td>32.200000</td>\n",
       "      <td>1145.000000</td>\n",
       "      <td>992.600000</td>\n",
       "      <td>365.000000</td>\n",
       "      <td>82.600000</td>\n",
       "    </tr>\n",
       "  </tbody>\n",
       "</table>\n",
       "</div>"
      ],
      "text/plain": [
       "            Cement  Blast Furnace Slag      Fly Ash        Water  \\\n",
       "count  1030.000000         1030.000000  1030.000000  1030.000000   \n",
       "mean    281.167864           73.895825    54.188350   181.567282   \n",
       "std     104.506364           86.279342    63.997004    21.354219   \n",
       "min     102.000000            0.000000     0.000000   121.800000   \n",
       "25%     192.375000            0.000000     0.000000   164.900000   \n",
       "50%     272.900000           22.000000     0.000000   185.000000   \n",
       "75%     350.000000          142.950000   118.300000   192.000000   \n",
       "max     540.000000          359.400000   200.100000   247.000000   \n",
       "\n",
       "       Superplasticizer  Coarse Aggregate  Fine Aggregate          Age  \\\n",
       "count       1030.000000       1030.000000     1030.000000  1030.000000   \n",
       "mean           6.204660        972.918932      773.580485    45.662136   \n",
       "std            5.973841         77.753954       80.175980    63.169912   \n",
       "min            0.000000        801.000000      594.000000     1.000000   \n",
       "25%            0.000000        932.000000      730.950000     7.000000   \n",
       "50%            6.400000        968.000000      779.500000    28.000000   \n",
       "75%           10.200000       1029.400000      824.000000    56.000000   \n",
       "max           32.200000       1145.000000      992.600000   365.000000   \n",
       "\n",
       "          Strength  \n",
       "count  1030.000000  \n",
       "mean     35.817961  \n",
       "std      16.705742  \n",
       "min       2.330000  \n",
       "25%      23.710000  \n",
       "50%      34.445000  \n",
       "75%      46.135000  \n",
       "max      82.600000  "
      ]
     },
     "execution_count": 14,
     "metadata": {},
     "output_type": "execute_result"
    }
   ],
   "source": [
    "concrete_data.describe()"
   ]
  },
  {
   "cell_type": "code",
   "execution_count": 16,
   "id": "827a099d-abbd-43d0-8256-c5dc7dfbd6a7",
   "metadata": {},
   "outputs": [
    {
     "data": {
      "text/plain": [
       "Cement                0\n",
       "Blast Furnace Slag    0\n",
       "Fly Ash               0\n",
       "Water                 0\n",
       "Superplasticizer      0\n",
       "Coarse Aggregate      0\n",
       "Fine Aggregate        0\n",
       "Age                   0\n",
       "Strength              0\n",
       "dtype: int64"
      ]
     },
     "execution_count": 16,
     "metadata": {},
     "output_type": "execute_result"
    }
   ],
   "source": [
    "concrete_data.isnull().sum()"
   ]
  },
  {
   "cell_type": "markdown",
   "id": "94c00e5b-c483-462f-82bb-b9812352cf5c",
   "metadata": {},
   "source": [
    "This confirms the data is very clean and is ready to be used to build the model.\n"
   ]
  },
  {
   "cell_type": "raw",
   "id": "8466777e-403d-4151-b79c-880e0b2d5bf0",
   "metadata": {},
   "source": [
    "Split data into predictors and target\n",
    "\r\n",
    "The target variable in this problem is the concrete sample strength. Therefore, our predictors will be all the other columns."
   ]
  },
  {
   "cell_type": "code",
   "execution_count": 18,
   "id": "dacd94ac-9908-48c2-96de-c058ca801245",
   "metadata": {},
   "outputs": [],
   "source": [
    "concrete_data_columns = concrete_data.columns\n",
    "predictors = concrete_data[concrete_data_columns[concrete_data_columns != 'Strength']] # all columns except Strength\n",
    "target = concrete_data['Strength'] # Strength column"
   ]
  },
  {
   "cell_type": "code",
   "execution_count": 19,
   "id": "7c9f703b-ab44-4cff-a54f-3cfe28fd3098",
   "metadata": {},
   "outputs": [
    {
     "data": {
      "text/html": [
       "<div>\n",
       "<style scoped>\n",
       "    .dataframe tbody tr th:only-of-type {\n",
       "        vertical-align: middle;\n",
       "    }\n",
       "\n",
       "    .dataframe tbody tr th {\n",
       "        vertical-align: top;\n",
       "    }\n",
       "\n",
       "    .dataframe thead th {\n",
       "        text-align: right;\n",
       "    }\n",
       "</style>\n",
       "<table border=\"1\" class=\"dataframe\">\n",
       "  <thead>\n",
       "    <tr style=\"text-align: right;\">\n",
       "      <th></th>\n",
       "      <th>Cement</th>\n",
       "      <th>Blast Furnace Slag</th>\n",
       "      <th>Fly Ash</th>\n",
       "      <th>Water</th>\n",
       "      <th>Superplasticizer</th>\n",
       "      <th>Coarse Aggregate</th>\n",
       "      <th>Fine Aggregate</th>\n",
       "      <th>Age</th>\n",
       "    </tr>\n",
       "  </thead>\n",
       "  <tbody>\n",
       "    <tr>\n",
       "      <th>0</th>\n",
       "      <td>540.0</td>\n",
       "      <td>0.0</td>\n",
       "      <td>0.0</td>\n",
       "      <td>162.0</td>\n",
       "      <td>2.5</td>\n",
       "      <td>1040.0</td>\n",
       "      <td>676.0</td>\n",
       "      <td>28</td>\n",
       "    </tr>\n",
       "    <tr>\n",
       "      <th>1</th>\n",
       "      <td>540.0</td>\n",
       "      <td>0.0</td>\n",
       "      <td>0.0</td>\n",
       "      <td>162.0</td>\n",
       "      <td>2.5</td>\n",
       "      <td>1055.0</td>\n",
       "      <td>676.0</td>\n",
       "      <td>28</td>\n",
       "    </tr>\n",
       "    <tr>\n",
       "      <th>2</th>\n",
       "      <td>332.5</td>\n",
       "      <td>142.5</td>\n",
       "      <td>0.0</td>\n",
       "      <td>228.0</td>\n",
       "      <td>0.0</td>\n",
       "      <td>932.0</td>\n",
       "      <td>594.0</td>\n",
       "      <td>270</td>\n",
       "    </tr>\n",
       "    <tr>\n",
       "      <th>3</th>\n",
       "      <td>332.5</td>\n",
       "      <td>142.5</td>\n",
       "      <td>0.0</td>\n",
       "      <td>228.0</td>\n",
       "      <td>0.0</td>\n",
       "      <td>932.0</td>\n",
       "      <td>594.0</td>\n",
       "      <td>365</td>\n",
       "    </tr>\n",
       "    <tr>\n",
       "      <th>4</th>\n",
       "      <td>198.6</td>\n",
       "      <td>132.4</td>\n",
       "      <td>0.0</td>\n",
       "      <td>192.0</td>\n",
       "      <td>0.0</td>\n",
       "      <td>978.4</td>\n",
       "      <td>825.5</td>\n",
       "      <td>360</td>\n",
       "    </tr>\n",
       "  </tbody>\n",
       "</table>\n",
       "</div>"
      ],
      "text/plain": [
       "   Cement  Blast Furnace Slag  Fly Ash  Water  Superplasticizer  \\\n",
       "0   540.0                 0.0      0.0  162.0               2.5   \n",
       "1   540.0                 0.0      0.0  162.0               2.5   \n",
       "2   332.5               142.5      0.0  228.0               0.0   \n",
       "3   332.5               142.5      0.0  228.0               0.0   \n",
       "4   198.6               132.4      0.0  192.0               0.0   \n",
       "\n",
       "   Coarse Aggregate  Fine Aggregate  Age  \n",
       "0            1040.0           676.0   28  \n",
       "1            1055.0           676.0   28  \n",
       "2             932.0           594.0  270  \n",
       "3             932.0           594.0  365  \n",
       "4             978.4           825.5  360  "
      ]
     },
     "execution_count": 19,
     "metadata": {},
     "output_type": "execute_result"
    }
   ],
   "source": [
    "predictors.head()"
   ]
  },
  {
   "cell_type": "code",
   "execution_count": 89,
   "id": "78e0a053-f2e5-4cc6-9936-ec5b809e5ae0",
   "metadata": {},
   "outputs": [
    {
     "data": {
      "text/plain": [
       "0    79.99\n",
       "1    61.89\n",
       "2    40.27\n",
       "3    41.05\n",
       "4    44.30\n",
       "Name: Strength, dtype: float64"
      ]
     },
     "execution_count": 89,
     "metadata": {},
     "output_type": "execute_result"
    }
   ],
   "source": [
    "target.head()"
   ]
  },
  {
   "cell_type": "markdown",
   "id": "ceb70e9e-43a5-4326-b875-0ca40a67517b",
   "metadata": {},
   "source": [
    "normalizing the data by substracting the mean and dividing by the standard deviation\n"
   ]
  },
  {
   "cell_type": "code",
   "execution_count": 90,
   "id": "f34d195e-1f4f-41da-b7c9-8c38308e11d8",
   "metadata": {},
   "outputs": [
    {
     "data": {
      "text/html": [
       "<div>\n",
       "<style scoped>\n",
       "    .dataframe tbody tr th:only-of-type {\n",
       "        vertical-align: middle;\n",
       "    }\n",
       "\n",
       "    .dataframe tbody tr th {\n",
       "        vertical-align: top;\n",
       "    }\n",
       "\n",
       "    .dataframe thead th {\n",
       "        text-align: right;\n",
       "    }\n",
       "</style>\n",
       "<table border=\"1\" class=\"dataframe\">\n",
       "  <thead>\n",
       "    <tr style=\"text-align: right;\">\n",
       "      <th></th>\n",
       "      <th>Cement</th>\n",
       "      <th>Blast Furnace Slag</th>\n",
       "      <th>Fly Ash</th>\n",
       "      <th>Water</th>\n",
       "      <th>Superplasticizer</th>\n",
       "      <th>Coarse Aggregate</th>\n",
       "      <th>Fine Aggregate</th>\n",
       "      <th>Age</th>\n",
       "    </tr>\n",
       "  </thead>\n",
       "  <tbody>\n",
       "    <tr>\n",
       "      <th>0</th>\n",
       "      <td>2.476712</td>\n",
       "      <td>-0.856472</td>\n",
       "      <td>-0.846733</td>\n",
       "      <td>-0.916319</td>\n",
       "      <td>-0.620147</td>\n",
       "      <td>0.862735</td>\n",
       "      <td>-1.217079</td>\n",
       "      <td>-0.279597</td>\n",
       "    </tr>\n",
       "    <tr>\n",
       "      <th>1</th>\n",
       "      <td>2.476712</td>\n",
       "      <td>-0.856472</td>\n",
       "      <td>-0.846733</td>\n",
       "      <td>-0.916319</td>\n",
       "      <td>-0.620147</td>\n",
       "      <td>1.055651</td>\n",
       "      <td>-1.217079</td>\n",
       "      <td>-0.279597</td>\n",
       "    </tr>\n",
       "    <tr>\n",
       "      <th>2</th>\n",
       "      <td>0.491187</td>\n",
       "      <td>0.795140</td>\n",
       "      <td>-0.846733</td>\n",
       "      <td>2.174405</td>\n",
       "      <td>-1.038638</td>\n",
       "      <td>-0.526262</td>\n",
       "      <td>-2.239829</td>\n",
       "      <td>3.551340</td>\n",
       "    </tr>\n",
       "    <tr>\n",
       "      <th>3</th>\n",
       "      <td>0.491187</td>\n",
       "      <td>0.795140</td>\n",
       "      <td>-0.846733</td>\n",
       "      <td>2.174405</td>\n",
       "      <td>-1.038638</td>\n",
       "      <td>-0.526262</td>\n",
       "      <td>-2.239829</td>\n",
       "      <td>5.055221</td>\n",
       "    </tr>\n",
       "    <tr>\n",
       "      <th>4</th>\n",
       "      <td>-0.790075</td>\n",
       "      <td>0.678079</td>\n",
       "      <td>-0.846733</td>\n",
       "      <td>0.488555</td>\n",
       "      <td>-1.038638</td>\n",
       "      <td>0.070492</td>\n",
       "      <td>0.647569</td>\n",
       "      <td>4.976069</td>\n",
       "    </tr>\n",
       "  </tbody>\n",
       "</table>\n",
       "</div>"
      ],
      "text/plain": [
       "     Cement  Blast Furnace Slag   Fly Ash     Water  Superplasticizer  \\\n",
       "0  2.476712           -0.856472 -0.846733 -0.916319         -0.620147   \n",
       "1  2.476712           -0.856472 -0.846733 -0.916319         -0.620147   \n",
       "2  0.491187            0.795140 -0.846733  2.174405         -1.038638   \n",
       "3  0.491187            0.795140 -0.846733  2.174405         -1.038638   \n",
       "4 -0.790075            0.678079 -0.846733  0.488555         -1.038638   \n",
       "\n",
       "   Coarse Aggregate  Fine Aggregate       Age  \n",
       "0          0.862735       -1.217079 -0.279597  \n",
       "1          1.055651       -1.217079 -0.279597  \n",
       "2         -0.526262       -2.239829  3.551340  \n",
       "3         -0.526262       -2.239829  5.055221  \n",
       "4          0.070492        0.647569  4.976069  "
      ]
     },
     "execution_count": 90,
     "metadata": {},
     "output_type": "execute_result"
    }
   ],
   "source": [
    "predictors_norm = (predictors - predictors.mean()) / predictors.std()\r\n",
    "predictors_norm.head()\r\n"
   ]
  },
  {
   "cell_type": "code",
   "execution_count": 91,
   "id": "5a915d4c-1095-4161-9b09-4edac080e4b7",
   "metadata": {},
   "outputs": [],
   "source": [
    "n_columns=predictors_norm.shape[1]"
   ]
  },
  {
   "cell_type": "markdown",
   "id": "eb6bdd3d-fd5f-4ba5-a7c2-190118828c1a",
   "metadata": {},
   "source": [
    "Now Let's import keras"
   ]
  },
  {
   "cell_type": "code",
   "execution_count": 58,
   "id": "55cc4be9-dc73-4e61-b6ea-595c9d546f65",
   "metadata": {},
   "outputs": [],
   "source": [
    "import keras"
   ]
  },
  {
   "cell_type": "code",
   "execution_count": 59,
   "id": "11e1d5bf-09ef-4d15-8b14-db570ae86158",
   "metadata": {},
   "outputs": [],
   "source": [
    "from keras.models import Sequential\n",
    "from keras.layers import Dense"
   ]
  },
  {
   "cell_type": "markdown",
   "id": "29ed21f5-4723-4f30-9d68-95714fb2d6ec",
   "metadata": {},
   "source": [
    "create a  model using the keras\n"
   ]
  },
  {
   "cell_type": "code",
   "execution_count": 65,
   "id": "bcd1afe8-57aa-4e6e-a902-95a9f7f8f289",
   "metadata": {},
   "outputs": [],
   "source": [
    "# define regression model\n",
    "def my_model():\n",
    "    # create model\n",
    "    model = Sequential()\n",
    "    model.add(Dense(10, activation='relu', input_shape=(n_columns,)))\n",
    "    model.add(Dense(1))\n",
    "    \n",
    "    # compile model\n",
    "    model.compile(optimizer='adam', loss='mean_squared_error')\n",
    "    return model"
   ]
  },
  {
   "cell_type": "markdown",
   "id": "d00a445f-ca87-44bb-8ce8-025b8e80f944",
   "metadata": {},
   "source": [
    "The above function creates a model that has one hidden layer with 10 neurons and a ReLU activation function. It uses the adam optimizer and the mean squared error as the loss function."
   ]
  },
  {
   "cell_type": "code",
   "execution_count": 66,
   "id": "0cf25b6d-0dd3-4312-9010-10ca2c93837d",
   "metadata": {},
   "outputs": [],
   "source": [
    "from sklearn.model_selection import train_test_split"
   ]
  },
  {
   "cell_type": "code",
   "execution_count": 92,
   "id": "bfe7e279-3f87-42fa-901c-d3e5994220eb",
   "metadata": {},
   "outputs": [],
   "source": [
    " X_train, X_test, y_train, y_test = train_test_split(predictors_norm, target, test_size=0.33, random_state=42)"
   ]
  },
  {
   "cell_type": "markdown",
   "id": "c7b90880-761f-4398-bcd7-cde7cec2808e",
   "metadata": {},
   "source": [
    "Let's call the function to return the model"
   ]
  },
  {
   "cell_type": "code",
   "execution_count": 93,
   "id": "8577597e-fd12-4fb0-92b8-d2dbfff7aa64",
   "metadata": {},
   "outputs": [],
   "source": [
    "# build the model\n",
    "model = my_model()\n",
    "\n"
   ]
  },
  {
   "cell_type": "code",
   "execution_count": 94,
   "id": "ec6b984e-d789-44c6-8587-409817397995",
   "metadata": {},
   "outputs": [
    {
     "name": "stdout",
     "output_type": "stream",
     "text": [
      "Epoch 1/50\n",
      "22/22 [==============================] - 1s 1ms/step - loss: 1567.6758\n",
      "Epoch 2/50\n",
      "22/22 [==============================] - 0s 1ms/step - loss: 1551.5198\n",
      "Epoch 3/50\n",
      "22/22 [==============================] - 0s 1ms/step - loss: 1534.9768\n",
      "Epoch 4/50\n",
      "22/22 [==============================] - 0s 1ms/step - loss: 1518.0857\n",
      "Epoch 5/50\n",
      "22/22 [==============================] - 0s 997us/step - loss: 1500.5936\n",
      "Epoch 6/50\n",
      "22/22 [==============================] - 0s 1ms/step - loss: 1482.2814\n",
      "Epoch 7/50\n",
      "22/22 [==============================] - 0s 1ms/step - loss: 1463.0472\n",
      "Epoch 8/50\n",
      "22/22 [==============================] - 0s 1ms/step - loss: 1442.5652\n",
      "Epoch 9/50\n",
      "22/22 [==============================] - 0s 1ms/step - loss: 1420.9359\n",
      "Epoch 10/50\n",
      "22/22 [==============================] - 0s 1ms/step - loss: 1398.0170\n",
      "Epoch 11/50\n",
      "22/22 [==============================] - 0s 1ms/step - loss: 1373.7708\n",
      "Epoch 12/50\n",
      "22/22 [==============================] - 0s 1ms/step - loss: 1348.1587\n",
      "Epoch 13/50\n",
      "22/22 [==============================] - 0s 1ms/step - loss: 1321.4872\n",
      "Epoch 14/50\n",
      "22/22 [==============================] - 0s 1ms/step - loss: 1293.2150\n",
      "Epoch 15/50\n",
      "22/22 [==============================] - 0s 1ms/step - loss: 1264.3859\n",
      "Epoch 16/50\n",
      "22/22 [==============================] - 0s 1ms/step - loss: 1233.8473\n",
      "Epoch 17/50\n",
      "22/22 [==============================] - 0s 1ms/step - loss: 1202.5717\n",
      "Epoch 18/50\n",
      "22/22 [==============================] - 0s 1ms/step - loss: 1169.7737\n",
      "Epoch 19/50\n",
      "22/22 [==============================] - 0s 1ms/step - loss: 1137.0458\n",
      "Epoch 20/50\n",
      "22/22 [==============================] - 0s 1ms/step - loss: 1103.8188\n",
      "Epoch 21/50\n",
      "22/22 [==============================] - 0s 1ms/step - loss: 1069.1127\n",
      "Epoch 22/50\n",
      "22/22 [==============================] - 0s 1ms/step - loss: 1034.9303\n",
      "Epoch 23/50\n",
      "22/22 [==============================] - 0s 1ms/step - loss: 1000.3124\n",
      "Epoch 24/50\n",
      "22/22 [==============================] - 0s 1ms/step - loss: 965.6848\n",
      "Epoch 25/50\n",
      "22/22 [==============================] - 0s 1ms/step - loss: 930.4019\n",
      "Epoch 26/50\n",
      "22/22 [==============================] - 0s 1ms/step - loss: 896.2502\n",
      "Epoch 27/50\n",
      "22/22 [==============================] - 0s 1ms/step - loss: 862.2679\n",
      "Epoch 28/50\n",
      "22/22 [==============================] - 0s 1ms/step - loss: 828.9373\n",
      "Epoch 29/50\n",
      "22/22 [==============================] - 0s 1ms/step - loss: 795.5366\n",
      "Epoch 30/50\n",
      "22/22 [==============================] - 0s 1ms/step - loss: 763.5950\n",
      "Epoch 31/50\n",
      "22/22 [==============================] - 0s 1ms/step - loss: 732.3359\n",
      "Epoch 32/50\n",
      "22/22 [==============================] - 0s 1ms/step - loss: 702.3725\n",
      "Epoch 33/50\n",
      "22/22 [==============================] - 0s 1ms/step - loss: 673.2116\n",
      "Epoch 34/50\n",
      "22/22 [==============================] - 0s 1ms/step - loss: 644.9824\n",
      "Epoch 35/50\n",
      "22/22 [==============================] - 0s 1ms/step - loss: 618.0920\n",
      "Epoch 36/50\n",
      "22/22 [==============================] - 0s 1ms/step - loss: 592.2150\n",
      "Epoch 37/50\n",
      "22/22 [==============================] - 0s 1ms/step - loss: 567.1674\n",
      "Epoch 38/50\n",
      "22/22 [==============================] - 0s 1ms/step - loss: 543.5921\n",
      "Epoch 39/50\n",
      "22/22 [==============================] - 0s 1ms/step - loss: 521.3469\n",
      "Epoch 40/50\n",
      "22/22 [==============================] - 0s 1ms/step - loss: 500.2337\n",
      "Epoch 41/50\n",
      "22/22 [==============================] - 0s 935us/step - loss: 480.3011\n",
      "Epoch 42/50\n",
      "22/22 [==============================] - 0s 1ms/step - loss: 461.5800\n",
      "Epoch 43/50\n",
      "22/22 [==============================] - 0s 1ms/step - loss: 444.0044\n",
      "Epoch 44/50\n",
      "22/22 [==============================] - 0s 2ms/step - loss: 426.9657\n",
      "Epoch 45/50\n",
      "22/22 [==============================] - 0s 1ms/step - loss: 411.3197\n",
      "Epoch 46/50\n",
      "22/22 [==============================] - 0s 1ms/step - loss: 396.3423\n",
      "Epoch 47/50\n",
      "22/22 [==============================] - 0s 1ms/step - loss: 382.2534\n",
      "Epoch 48/50\n",
      "22/22 [==============================] - 0s 1ms/step - loss: 369.2046\n",
      "Epoch 49/50\n",
      "22/22 [==============================] - 0s 1ms/step - loss: 356.7813\n",
      "Epoch 50/50\n",
      "22/22 [==============================] - 0s 1ms/step - loss: 345.1986\n"
     ]
    },
    {
     "data": {
      "text/plain": [
       "<keras.src.callbacks.History at 0x26238ebcc50>"
      ]
     },
     "execution_count": 94,
     "metadata": {},
     "output_type": "execute_result"
    }
   ],
   "source": [
    "#fit the model \n",
    "#taking 50 epochs\n",
    "model.fit(X_train,y_train,epochs=50,verbose=1)"
   ]
  },
  {
   "cell_type": "code",
   "execution_count": 95,
   "id": "c8e8fdc9-e950-46e2-968b-f2d76b904d1e",
   "metadata": {},
   "outputs": [
    {
     "name": "stdout",
     "output_type": "stream",
     "text": [
      "11/11 [==============================] - 0s 1ms/step - loss: 344.9578\n"
     ]
    }
   ],
   "source": [
    "loss_value=model.evaluate(X_test,y_test)"
   ]
  },
  {
   "cell_type": "code",
   "execution_count": 96,
   "id": "38f956b2-fa85-4e5a-9775-ddaf33988f1c",
   "metadata": {},
   "outputs": [
    {
     "name": "stdout",
     "output_type": "stream",
     "text": [
      "11/11 [==============================] - 0s 1ms/step\n"
     ]
    }
   ],
   "source": [
    "y_pred=model.predict(X_test)"
   ]
  },
  {
   "cell_type": "code",
   "execution_count": 97,
   "id": "8341ff0c-36c7-4f05-b18a-d56f6e7aab5e",
   "metadata": {},
   "outputs": [
    {
     "data": {
      "text/plain": [
       "344.95782470703125"
      ]
     },
     "execution_count": 97,
     "metadata": {},
     "output_type": "execute_result"
    }
   ],
   "source": [
    "loss_value"
   ]
  },
  {
   "cell_type": "markdown",
   "id": "f321129a-7f04-4589-bc5d-4fc7130e9697",
   "metadata": {},
   "source": [
    "Now we need to compute the mean squared error between the predicted concrete strength and the actual concrete strength.\n",
    "\n",
    "Let's import the mean_squared_error function from Scikit-learn."
   ]
  },
  {
   "cell_type": "code",
   "execution_count": 98,
   "id": "36ee5563-9525-4ec1-9375-1450d94894dc",
   "metadata": {},
   "outputs": [
    {
     "name": "stdout",
     "output_type": "stream",
     "text": [
      "344.9578539517482 0.0\n"
     ]
    }
   ],
   "source": [
    "from sklearn.metrics import mean_squared_error\n",
    "mean_square_error = mean_squared_error(y_test, y_pred)\n",
    "mean = np.mean(mean_square_error)\n",
    "standard_deviation = np.std(mean_square_error)\n",
    "print(mean, standard_deviation)"
   ]
  },
  {
   "cell_type": "code",
   "execution_count": 100,
   "id": "0c19b716-5d7c-4578-ae4f-4aced1b309d9",
   "metadata": {},
   "outputs": [
    {
     "name": "stdout",
     "output_type": "stream",
     "text": [
      "MSE 1: 106.98853302001953\n",
      "10/10 [==============================] - 0s 1ms/step\n",
      "MSE 2: 107.12973022460938\n",
      "10/10 [==============================] - 0s 1ms/step\n",
      "MSE 3: 77.30272674560547\n",
      "10/10 [==============================] - 0s 1ms/step\n",
      "MSE 4: 71.99444580078125\n",
      "10/10 [==============================] - 0s 1ms/step\n",
      "MSE 5: 68.8219223022461\n",
      "10/10 [==============================] - 0s 1ms/step\n",
      "MSE 6: 67.0029067993164\n",
      "10/10 [==============================] - 0s 1ms/step\n",
      "MSE 7: 68.63764190673828\n",
      "10/10 [==============================] - 0s 1ms/step\n",
      "MSE 8: 58.28990936279297\n",
      "10/10 [==============================] - 0s 1ms/step\n",
      "MSE 9: 58.77272415161133\n",
      "10/10 [==============================] - 0s 1ms/step\n",
      "MSE 10: 53.43775939941406\n",
      "10/10 [==============================] - 0s 1ms/step\n",
      "MSE 11: 55.94029235839844\n",
      "10/10 [==============================] - 0s 1ms/step\n",
      "MSE 12: 52.71601867675781\n",
      "10/10 [==============================] - 0s 778us/step\n",
      "MSE 13: 60.618263244628906\n",
      "10/10 [==============================] - 0s 1ms/step\n",
      "MSE 14: 58.873836517333984\n",
      "10/10 [==============================] - 0s 1ms/step\n",
      "MSE 15: 48.38095474243164\n",
      "10/10 [==============================] - 0s 1ms/step\n",
      "MSE 16: 40.13920593261719\n",
      "10/10 [==============================] - 0s 1ms/step\n",
      "MSE 17: 45.2708854675293\n",
      "10/10 [==============================] - 0s 1ms/step\n",
      "MSE 18: 44.81064987182617\n",
      "10/10 [==============================] - 0s 1ms/step\n",
      "MSE 19: 42.52109909057617\n",
      "10/10 [==============================] - 0s 1ms/step\n",
      "MSE 20: 46.643104553222656\n",
      "10/10 [==============================] - 0s 889us/step\n",
      "MSE 21: 39.45628356933594\n",
      "10/10 [==============================] - 0s 1ms/step\n",
      "MSE 22: 46.547767639160156\n",
      "10/10 [==============================] - 0s 1ms/step\n",
      "MSE 23: 36.91215515136719\n",
      "10/10 [==============================] - 0s 1ms/step\n",
      "MSE 24: 38.77336883544922\n",
      "10/10 [==============================] - 0s 1ms/step\n",
      "MSE 25: 40.24373245239258\n",
      "10/10 [==============================] - 0s 1ms/step\n",
      "MSE 26: 43.218379974365234\n",
      "10/10 [==============================] - 0s 1ms/step\n",
      "MSE 27: 36.87477111816406\n",
      "10/10 [==============================] - 0s 1ms/step\n",
      "MSE 28: 38.65098190307617\n",
      "10/10 [==============================] - 0s 1ms/step\n",
      "MSE 29: 45.350929260253906\n",
      "10/10 [==============================] - 0s 1ms/step\n",
      "MSE 30: 42.433345794677734\n",
      "10/10 [==============================] - 0s 1ms/step\n",
      "MSE 31: 40.626705169677734\n",
      "10/10 [==============================] - 0s 1ms/step\n",
      "MSE 32: 39.52778625488281\n",
      "10/10 [==============================] - 0s 1ms/step\n",
      "MSE 33: 40.58992004394531\n",
      "10/10 [==============================] - 0s 1ms/step\n",
      "MSE 34: 41.40255355834961\n",
      "10/10 [==============================] - 0s 1ms/step\n",
      "MSE 35: 38.992164611816406\n",
      "10/10 [==============================] - 0s 1ms/step\n",
      "MSE 36: 48.909088134765625\n",
      "10/10 [==============================] - 0s 1ms/step\n",
      "MSE 37: 37.239036560058594\n",
      "10/10 [==============================] - 0s 1ms/step\n",
      "MSE 38: 41.73585510253906\n",
      "10/10 [==============================] - 0s 1ms/step\n",
      "MSE 39: 40.01181411743164\n",
      "10/10 [==============================] - 0s 889us/step\n",
      "MSE 40: 35.963600158691406\n",
      "10/10 [==============================] - 0s 1ms/step\n",
      "MSE 41: 41.997215270996094\n",
      "10/10 [==============================] - 0s 1ms/step\n",
      "MSE 42: 35.46066665649414\n",
      "10/10 [==============================] - 0s 1ms/step\n",
      "MSE 43: 40.28447723388672\n",
      "10/10 [==============================] - 0s 1ms/step\n",
      "MSE 44: 41.10436248779297\n",
      "10/10 [==============================] - 0s 1ms/step\n",
      "MSE 45: 41.50782012939453\n",
      "10/10 [==============================] - 0s 1ms/step\n",
      "MSE 46: 41.83515548706055\n",
      "10/10 [==============================] - 0s 1ms/step\n",
      "MSE 47: 38.0950813293457\n",
      "10/10 [==============================] - 0s 1ms/step\n",
      "MSE 48: 40.23405838012695\n",
      "10/10 [==============================] - 0s 1ms/step\n",
      "MSE 49: 39.76874923706055\n",
      "10/10 [==============================] - 0s 1ms/step\n",
      "MSE 50: 42.96675109863281\n",
      "10/10 [==============================] - 0s 1ms/step\n",
      "\n",
      "\n",
      "Below is the mean and standard deviation of 50 mean squared errors with normalized data. Total number of epochs for each training is: 50\n",
      "\n",
      "Mean: 49.020142959839184\n",
      "Standard Deviation: 15.634717331392013\n"
     ]
    }
   ],
   "source": [
    "total_mean_squared_errors = 50\n",
    "epochs = 50\n",
    "mean_squared_errors = []\n",
    "for i in range(0, total_mean_squared_errors):\n",
    "    X_train, X_test, y_train, y_test = train_test_split(predictors_norm, target, test_size=0.3, random_state=i)\n",
    "    model.fit(X_train, y_train, epochs=epochs, verbose=0)\n",
    "    MSE = model.evaluate(X_test, y_test, verbose=0)\n",
    "    print(\"MSE \"+str(i+1)+\": \"+str(MSE))\n",
    "    y_pred = model.predict(X_test)\n",
    "    mean_square_error = mean_squared_error(y_test, y_pred)\n",
    "    mean_squared_errors.append(mean_square_error)\n",
    "\n",
    "mean_squared_errors = np.array(mean_squared_errors)\n",
    "mean = np.mean(mean_squared_errors)\n",
    "standard_deviation = np.std(mean_squared_errors)\n",
    "\n",
    "print('\\n')\n",
    "print(\"Below is the mean and standard deviation of \" +str(total_mean_squared_errors) + \" mean squared errors with normalized data. Total number of epochs for each training is: \" +str(epochs) + \"\\n\")\n",
    "print(\"Mean: \"+str(mean))\n",
    "print(\"Standard Deviation: \"+str(standard_deviation))"
   ]
  },
  {
   "cell_type": "code",
   "execution_count": null,
   "id": "20bdc8b6-fb0e-4cac-a2ad-3e0384ac6075",
   "metadata": {},
   "outputs": [],
   "source": []
  },
  {
   "cell_type": "code",
   "execution_count": null,
   "id": "6de1fb57-e0b0-44c5-97b4-cb6dc559f481",
   "metadata": {},
   "outputs": [],
   "source": []
  }
 ],
 "metadata": {
  "kernelspec": {
   "display_name": "Python 3 (ipykernel)",
   "language": "python",
   "name": "python3"
  },
  "language_info": {
   "codemirror_mode": {
    "name": "ipython",
    "version": 3
   },
   "file_extension": ".py",
   "mimetype": "text/x-python",
   "name": "python",
   "nbconvert_exporter": "python",
   "pygments_lexer": "ipython3",
   "version": "3.11.5"
  }
 },
 "nbformat": 4,
 "nbformat_minor": 5
}
